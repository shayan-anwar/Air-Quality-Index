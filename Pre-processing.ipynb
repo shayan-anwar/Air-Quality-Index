{
 "cells": [
  {
   "cell_type": "code",
   "execution_count": 1,
   "id": "6e19b129",
   "metadata": {},
   "outputs": [
    {
     "name": "stdout",
     "output_type": "stream",
     "text": [
      "              Country              City  AQI Value AQI Category  CO AQI Value  \\\n",
      "0  Russian Federation        Praskoveya         51     Moderate             1   \n",
      "1              Brazil  Presidente Dutra         41         Good             1   \n",
      "2               Italy   Priolo Gargallo         66     Moderate             1   \n",
      "3              Poland         Przasnysz         34         Good             1   \n",
      "4              France          Punaauia         22         Good             0   \n",
      "\n",
      "  CO AQI Category  Ozone AQI Value Ozone AQI Category  NO2 AQI Value  \\\n",
      "0            Good               36               Good              0   \n",
      "1            Good                5               Good              1   \n",
      "2            Good               39               Good              2   \n",
      "3            Good               34               Good              0   \n",
      "4            Good               22               Good              0   \n",
      "\n",
      "  NO2 AQI Category  PM2.5 AQI Value PM2.5 AQI Category  \n",
      "0             Good               51           Moderate  \n",
      "1             Good               41               Good  \n",
      "2             Good               66           Moderate  \n",
      "3             Good               20               Good  \n",
      "4             Good                6               Good  \n",
      "              Country              City  AQI Value  AQI Category  \\\n",
      "0  Russian Federation        Praskoveya   0.099863             1   \n",
      "1              Brazil  Presidente Dutra  -0.549414             0   \n",
      "2               Italy   Priolo Gargallo   1.073778             1   \n",
      "3              Poland         Przasnysz  -1.003907             0   \n",
      "6             Germany        Puttlingen   0.814067             1   \n",
      "\n",
      "   CO AQI Value  CO AQI Category  Ozone AQI Value  Ozone AQI Category  \\\n",
      "0           0.0                0         0.362291                   0   \n",
      "1           0.0                0        -2.308886                   0   \n",
      "2           0.0                0         0.620792                   0   \n",
      "3           0.0                0         0.189957                   0   \n",
      "6           0.0                0         0.276124                   0   \n",
      "\n",
      "   NO2 AQI Value  NO2 AQI Category  PM2.5 AQI Value  PM2.5 AQI Category  \n",
      "0      -0.907145                 0         0.257088                   1  \n",
      "1      -0.335208                 0        -0.276537                   0  \n",
      "2       0.236729                 0         1.057527                   1  \n",
      "3      -0.907145                 0        -1.397151                   0  \n",
      "6       0.808665                 0         0.844077                   1  \n"
     ]
    }
   ],
   "source": [
    "#Preprocessing on Kaggle DataSet\n",
    "\n",
    "import pandas as pd\n",
    "from sklearn.impute import SimpleImputer\n",
    "from sklearn.preprocessing import StandardScaler, LabelEncoder\n",
    "\n",
    "df = pd.read_csv('DataSet.csv')\n",
    "print(df.head())\n",
    "\n",
    "# Missing/NULL values were replaced by the mean of all the values of the column.\n",
    "imputer = SimpleImputer(strategy='mean')\n",
    "numerical_columns = ['AQI Value', 'CO AQI Value', 'Ozone AQI Value', 'NO2 AQI Value', 'PM2.5 AQI Value']\n",
    "df[numerical_columns] = imputer.fit_transform(df[numerical_columns])\n",
    "\n",
    "# Duplicate rows were removed in order to avoid biasness.\n",
    "df = df.drop_duplicates()\n",
    "\n",
    "# Outliers in the pollutants were filtered out using InterQuartile Range Method.\n",
    "def remove_outliers(df, column):\n",
    "    Q1 = df[column].quantile(0.25)\n",
    "    Q3 = df[column].quantile(0.75)\n",
    "    IQR = Q3 - Q1\n",
    "    df = df[~((df[column] < (Q1 - 1.5 * IQR)) | (df[column] > (Q3 + 1.5 * IQR)))]\n",
    "    return df\n",
    "\n",
    "for col in numerical_columns:\n",
    "    df = remove_outliers(df, col)\n",
    "\n",
    "# Lable Encoding i.e categorizing labled columns as 0 1 2\n",
    "label_encoder = LabelEncoder()\n",
    "categorical_columns = ['AQI Category', 'CO AQI Category', 'Ozone AQI Category', 'NO2 AQI Category', 'PM2.5 AQI Category']\n",
    "for column in categorical_columns:\n",
    "    df[column] = label_encoder.fit_transform(df[column])\n",
    "\n",
    "# DataSet Normalization\n",
    "scaler = StandardScaler()\n",
    "df[numerical_columns] = scaler.fit_transform(df[numerical_columns])\n",
    "\n",
    "df.to_csv('Cleaned_DataSet.csv', index=False)\n",
    "print(df.head())"
   ]
  },
  {
   "cell_type": "code",
   "execution_count": null,
   "id": "8688f085",
   "metadata": {},
   "outputs": [],
   "source": []
  }
 ],
 "metadata": {
  "kernelspec": {
   "display_name": "Python 3",
   "language": "python",
   "name": "python3"
  },
  "language_info": {
   "codemirror_mode": {
    "name": "ipython",
    "version": 3
   },
   "file_extension": ".py",
   "mimetype": "text/x-python",
   "name": "python",
   "nbconvert_exporter": "python",
   "pygments_lexer": "ipython3",
   "version": "3.8.8"
  }
 },
 "nbformat": 4,
 "nbformat_minor": 5
}
